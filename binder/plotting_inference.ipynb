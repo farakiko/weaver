{
 "cells": [
  {
   "cell_type": "code",
   "execution_count": 78,
   "metadata": {},
   "outputs": [],
   "source": [
    "import json\n",
    "import uproot\n",
    "from coffea.nanoevents import NanoEventsFactory, NanoAODSchema, BaseSchema\n",
    "from coffea import nanoevents\n",
    "from coffea import processor\n",
    "import time\n",
    "\n",
    "import numpy as np\n",
    "\n",
    "import matplotlib.pyplot as plt\n",
    "import mplhep as hep\n",
    "plt.style.use(hep.style.CMS) "
   ]
  },
  {
   "cell_type": "markdown",
   "metadata": {},
   "source": [
    "Definitions\n",
    "- reconstructed mass (called output in the ntuples)\n",
    "- target mass (called target_mass in the ntuples)\n",
    "\n",
    "\n",
    "A script that makes plots of\n",
    "- reconstructed mass for elenuqq signals (selecting events with fj_HVV_elenuqq==1 or something like that)\n",
    "    - for BulkGrav and selecting events with genRes_mass = 90\n",
    "    - for JHUVariableWMass and selecting events with genRes_mass = 90\n",
    "    - for hww\n",
    "- reconstructed mass for munuqq signals\n",
    "- reconstructed mass for 4q signals (selecting events with fj_HVV_4q ==1 and nprongs == 4)\n",
    "- reconstructed mass for 3q signals (selecting events with fj_HVV_4q ==1 and nprongs == 3)"
   ]
  },
  {
   "cell_type": "markdown",
   "metadata": {},
   "source": [
    "launch qcd and make plot of fj_genjetmsd (assume bug)\n",
    "\n",
    "launch signal hww and improve resolution\n",
    "reco mass / softdrop mass\n",
    "\n"
   ]
  },
  {
   "cell_type": "code",
   "execution_count": 4,
   "metadata": {},
   "outputs": [
    {
     "name": "stdout",
     "output_type": "stream",
     "text": [
      "bulkg.root     hww.root       qcd.root       variableW.root\r\n"
     ]
    }
   ],
   "source": [
    "! ls rootfiles"
   ]
  },
  {
   "cell_type": "code",
   "execution_count": 51,
   "metadata": {},
   "outputs": [
    {
     "name": "stdout",
     "output_type": "stream",
     "text": [
      "number of qcd events is 2945967\n",
      "number of bulkg events is 923547\n",
      "number of hww events is 21093\n",
      "number of variableW events is 514478\n"
     ]
    }
   ],
   "source": [
    "# load a root file into coffea-friendly NanoAOD structure\n",
    "\n",
    "samples = ['qcd', 'bulkg', 'hww', 'variableW']\n",
    "\n",
    "events = {}\n",
    "for sample in samples:\n",
    "    events[sample] = uproot.open(f\"rootfiles/{sample}.root\")['Events']\n",
    "    print(f\"number of {sample} events is {events[sample].num_entries}\")"
   ]
  },
  {
   "cell_type": "code",
   "execution_count": 15,
   "metadata": {},
   "outputs": [
    {
     "data": {
      "text/plain": [
       "['target_mass',\n",
       " 'output',\n",
       " 'fj_pt',\n",
       " 'fj_eta',\n",
       " 'fj_phi',\n",
       " 'fj_mass',\n",
       " 'fj_msoftdrop',\n",
       " 'fj_genjetmass',\n",
       " 'fj_genRes_mass',\n",
       " 'fj_genRes_pt',\n",
       " 'fj_isQCDb',\n",
       " 'fj_isQCDbb',\n",
       " 'fj_isQCDc',\n",
       " 'fj_isQCDcc',\n",
       " 'fj_isQCDothers',\n",
       " 'fj_H_VV_elenuqq',\n",
       " 'fj_H_VV_munuqq',\n",
       " 'fj_H_VV_taunuqq',\n",
       " 'fj_nprongs',\n",
       " 'met_relpt',\n",
       " 'met_relphi']"
      ]
     },
     "execution_count": 15,
     "metadata": {},
     "output_type": "execute_result"
    }
   ],
   "source": [
    "# check keys\n",
    "events['qcd'].keys()"
   ]
  },
  {
   "cell_type": "code",
   "execution_count": 16,
   "metadata": {},
   "outputs": [],
   "source": [
    "reconstructed_mass = events['qcd']['output'].array().to_numpy()\n",
    "target_mass = events['qcd']['target_mass'].array().to_numpy()"
   ]
  },
  {
   "cell_type": "markdown",
   "metadata": {},
   "source": [
    "## Reco mass for leptonic signal"
   ]
  },
  {
   "cell_type": "code",
   "execution_count": 67,
   "metadata": {},
   "outputs": [],
   "source": [
    "channels = ['ele', 'mu']\n",
    "sig = ['bulkg', 'hww', 'variableW']\n",
    "\n",
    "reco_mass = {}\n",
    "target_mass = {}\n",
    "\n",
    "for ch in channels:\n",
    "    reco_mass[ch] = {}\n",
    "    target_mass[ch] = {}\n",
    "\n",
    "    for sample in sig:\n",
    "        \n",
    "        if ch == 'ele':\n",
    "            select = events[sample]['fj_H_VV_elenuqq'].array()==1    \n",
    "        else:\n",
    "            select = events[sample]['fj_H_VV_munuqq'].array()==1 \n",
    "\n",
    "        if sample in ['bulkg', 'variableW']:\n",
    "            select_genRes_mass = events[sample]['fj_genRes_mass'].array()==90\n",
    "            select = select & select_genRes_mass\n",
    "\n",
    "        reco_mass[ch][sample] = events[sample]['output'].array()[select].to_numpy()\n",
    "        target_mass[ch][sample] = events[sample]['target_mass'].array()[select].to_numpy()"
   ]
  },
  {
   "cell_type": "code",
   "execution_count": 77,
   "metadata": {},
   "outputs": [
    {
     "data": {
      "image/png": "[encoded data removed]",
      "text/plain": [
       "<Figure size 1152x504 with 2 Axes>"
      ]
     },
     "metadata": {
      "needs_background": "light"
     },
     "output_type": "display_data"
    }
   ],
   "source": [
    "from matplotlib.font_manager import FontProperties\n",
    "\n",
    "font = FontProperties()\n",
    "font.set_name('Times New Roman')\n",
    "plt.rcParams.update({'font.family':'serif'}) \n",
    "\n",
    "fig, axes = plt.subplots(ncols=2, figsize=(16,7))\n",
    "for i, ch in enumerate(channels):\n",
    "    for sample in sig:\n",
    "        axes[i].hist(reco_mass[ch][sample], np.linspace(0, 300, 100), label=sample, fill=True, linewidth=1)\n",
    "    axes[i].legend(title=f\"{ch} channel\", fontsize=16)\n",
    "\n",
    "    axes[i].set_xlabel(r\"Reconstructed mass\", fontsize=16)\n",
    "    axes[i].set_yscale('log')\n",
    "    # plt.savefig(f\"{PATH}/top_3.pdf\")"
   ]
  },
  {
   "cell_type": "markdown",
   "metadata": {},
   "source": [
    "## Reco mass for 4q signal"
   ]
  },
  {
   "cell_type": "code",
   "execution_count": null,
   "metadata": {},
   "outputs": [],
   "source": [
    "- reconstructed mass for 4q signals (selecting events with fj_HVV_4q ==1 and nprongs == 4)\n",
    "- reconstructed mass for 3q signals (selecting events with fj_HVV_4q ==1 and nprongs == 3)"
   ]
  },
  {
   "cell_type": "code",
   "execution_count": null,
   "metadata": {},
   "outputs": [],
   "source": [
    "channels = ['ele', 'mu']\n",
    "sig = ['bulkg', 'hww', 'variableW']\n",
    "n_prongs = [3, 4]\n",
    "\n",
    "reco_mass = {}\n",
    "target_mass = {}\n",
    "\n",
    "for ch in channels:\n",
    "    reco_mass[ch] = {}\n",
    "    target_mass[ch] = {}\n",
    "\n",
    "    for sample in sig:\n",
    "        \n",
    "        if ch == 'ele':\n",
    "            select = events[sample]['fj_H_VV_elenuqq'].array()==1    \n",
    "        else:\n",
    "            select = events[sample]['fj_H_VV_munuqq'].array()==1 \n",
    "\n",
    "        if sample in ['bulkg', 'variableW']:\n",
    "            select_prongs = events[sample]['fj_nprongs']==n_prong\n",
    "            select = select & select_prongs\n",
    "\n",
    "        reco_mass[ch][sample] = events[sample]['output'].array()[select].to_numpy()\n",
    "        target_mass[ch][sample] = events[sample]['target_mass'].array()[select].to_numpy()"
   ]
  },
  {
   "cell_type": "code",
   "execution_count": 80,
   "metadata": {},
   "outputs": [
    {
     "data": {
      "text/plain": [
       "['target_mass',\n",
       " 'output',\n",
       " 'fj_pt',\n",
       " 'fj_eta',\n",
       " 'fj_phi',\n",
       " 'fj_mass',\n",
       " 'fj_msoftdrop',\n",
       " 'fj_genjetmass',\n",
       " 'fj_genjetmsd',\n",
       " 'fj_genRes_mass',\n",
       " 'fj_genRes_pt',\n",
       " 'fj_isQCDb',\n",
       " 'fj_isQCDbb',\n",
       " 'fj_isQCDc',\n",
       " 'fj_isQCDcc',\n",
       " 'fj_isQCDothers',\n",
       " 'fj_H_VV_elenuqq',\n",
       " 'fj_H_VV_munuqq',\n",
       " 'fj_H_VV_taunuqq',\n",
       " 'fj_nprongs',\n",
       " 'met_relpt',\n",
       " 'met_relphi']"
      ]
     },
     "execution_count": 80,
     "metadata": {},
     "output_type": "execute_result"
    }
   ],
   "source": [
    " events['hww'].keys()"
   ]
  },
  {
   "cell_type": "code",
   "execution_count": null,
   "metadata": {},
   "outputs": [],
   "source": []
  },
  {
   "cell_type": "code",
   "execution_count": null,
   "metadata": {},
   "outputs": [],
   "source": []
  },
  {
   "cell_type": "code",
   "execution_count": 96,
   "metadata": {},
   "outputs": [
    {
     "data": {
      "image/png": "[encoded data removed]",
      "text/plain": [
       "<Figure size 576x576 with 1 Axes>"
      ]
     },
     "metadata": {
      "needs_background": "light"
     },
     "output_type": "display_data"
    }
   ],
   "source": [
    "fig, ax = plt.subplots(figsize=(8,8))\n",
    "ax.hist(bulkg_events['target_mass'].array().to_numpy(), np.linspace(0, 600, 600), label='target_mass', fill=False, edgecolor='Blue', linewidth=1)\n",
    "ax.hist(bulkg_events['output'].array().to_numpy(), np.linspace(0, 600, 600), label='reco_mass', fill=False, edgecolor='Orange', linewidth=2)\n",
    "\n",
    "ax.legend()\n",
    "\n",
    "ax.set_xlabel(r\"Mass\", fontsize=16)\n",
    "ax.set_title('Bulkg sample')\n",
    "ax.set_yscale('log')\n",
    "# plt.savefig(f\"{PATH}/top_3.pdf\")"
   ]
  },
  {
   "cell_type": "code",
   "execution_count": 110,
   "metadata": {},
   "outputs": [
    {
     "data": {
      "image/png": "[encoded data removed]",
      "text/plain": [
       "<Figure size 576x576 with 1 Axes>"
      ]
     },
     "metadata": {
      "needs_background": "light"
     },
     "output_type": "display_data"
    }
   ],
   "source": [
    "fig, ax = plt.subplots(figsize=(8,8))\n",
    "ax.hist(qcd_events['target_mass'].array().to_numpy(), np.linspace(0, 600, 600), label='target_mass', fill=False, edgecolor='Blue', linewidth=1)\n",
    "ax.hist(qcd_events['output'].array().to_numpy(), np.linspace(0, 600, 600), label='reco_mass', fill=False, edgecolor='Orange', linewidth=2)\n",
    "\n",
    "ax.legend()\n",
    "\n",
    "ax.set_xlabel(r\"Mass\", fontsize=16)\n",
    "ax.set_title('Bulkg sample')\n",
    "ax.set_yscale('log')\n",
    "# plt.savefig(f\"{PATH}/top_3.pdf\")"
   ]
  },
  {
   "cell_type": "code",
   "execution_count": null,
   "metadata": {},
   "outputs": [],
   "source": []
  }
 ],
 "metadata": {
  "kernelspec": {
   "display_name": "pyg-coffea",
   "language": "python",
   "name": "pyg-coffea"
  },
  "language_info": {
   "codemirror_mode": {
    "name": "ipython",
    "version": 3
   },
   "file_extension": ".py",
   "mimetype": "text/x-python",
   "name": "python",
   "nbconvert_exporter": "python",
   "pygments_lexer": "ipython3",
   "version": "3.8.3"
  }
 },
 "nbformat": 4,
 "nbformat_minor": 4
}
